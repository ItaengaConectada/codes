{
 "cells": [
  {
   "cell_type": "markdown",
   "id": "8f1c3c7d-3f5d-41fb-8a2f-335fd09dfafa",
   "metadata": {
    "tags": []
   },
   "source": [
    "# Crawler - Extraindo Links de Site"
   ]
  },
  {
   "cell_type": "markdown",
   "id": "0c4d6baa-265a-4512-90af-45f18bf63654",
   "metadata": {
    "jp-MarkdownHeadingCollapsed": true,
    "tags": []
   },
   "source": [
    "## Importando módulos python"
   ]
  },
  {
   "cell_type": "code",
   "execution_count": 1,
   "id": "dec47cad-51f3-48f8-a78c-37be80eba889",
   "metadata": {},
   "outputs": [],
   "source": [
    "import json\n",
    "import re\n",
    "import urllib.request"
   ]
  },
  {
   "cell_type": "markdown",
   "id": "a93a9d5e-1ab9-4321-9221-e5c6d5d1d712",
   "metadata": {
    "jp-MarkdownHeadingCollapsed": true,
    "tags": []
   },
   "source": [
    "## URL Baixando HTML"
   ]
  },
  {
   "cell_type": "code",
   "execution_count": 6,
   "id": "830a3346-b0ef-4f56-b3a9-632447024415",
   "metadata": {},
   "outputs": [],
   "source": [
    "url = \"https://brasilescola.uol.com.br/\"\n",
    "req_data = urllib.request.urlopen(url).read().decode()\n",
    "#dir(req_data)"
   ]
  },
  {
   "cell_type": "code",
   "execution_count": 9,
   "id": "56fb18c7-d184-47e1-87ff-7a4839e9e7a4",
   "metadata": {},
   "outputs": [
    {
     "name": "stdout",
     "output_type": "stream",
     "text": [
      "<!DOCTYPE html>\n",
      "<html xml:lang=\"pt-br\" lang=\"pt-BR\" xmlns:fb=\"http://ogp.me/ns/fb#\">\n",
      "<head>\n",
      "<link rel=\"dns-prefetch\" href=\"//ogp.me\">\n",
      "<link rel=\"dns-prefetch\" href=\"//brasilescola.uol.com.br\">\n",
      "<link rel=\"dns-prefetch\" href=\"//auth.brasilescola.uol.com.br\">\n",
      "<link rel=\"dns-prefetch\" href=\"//app.brasilescola.uol.com.br\">\n",
      "<link rel=\"dns-prefetch\" href=\"//schema.org\">\n",
      "<link rel=\"dns-prefetch\" href=\"//w\n"
     ]
    }
   ],
   "source": [
    "# Conteúdo HTML do site\n",
    "print(req_data[:400])"
   ]
  },
  {
   "cell_type": "markdown",
   "id": "f81f3fd6-32a9-446f-87a0-0d71b0ecd198",
   "metadata": {},
   "source": [
    "### Salvando html do site"
   ]
  },
  {
   "cell_type": "code",
   "execution_count": 11,
   "id": "bd548673-53e8-4f7f-84c6-98a1217da672",
   "metadata": {},
   "outputs": [],
   "source": [
    "# Salvando \n",
    "with open(\"input.html\",'w') as arq:\n",
    "    arq.write(req_data)\n",
    "    arq.close()"
   ]
  },
  {
   "cell_type": "markdown",
   "id": "096bb251-2b94-4e3a-8bf9-958e1927c6a8",
   "metadata": {
    "jp-MarkdownHeadingCollapsed": true,
    "tags": []
   },
   "source": [
    "## Obtendo os links do site."
   ]
  },
  {
   "cell_type": "code",
   "execution_count": 37,
   "id": "92fed323-dacd-478d-bd44-d9d35b122af1",
   "metadata": {},
   "outputs": [],
   "source": [
    "links = re.finditer(r'(<a).+(</a>)', req_data)"
   ]
  },
  {
   "cell_type": "code",
   "execution_count": 38,
   "id": "c4bf80d5-3571-460e-9504-73d467547586",
   "metadata": {},
   "outputs": [],
   "source": [
    "alink = []\n",
    "i = 0\n",
    "for i in links:\n",
    "    alink.append(i.group())"
   ]
  },
  {
   "cell_type": "code",
   "execution_count": 39,
   "id": "1ffe3126-138e-44f2-b923-21fd95e0fae7",
   "metadata": {},
   "outputs": [
    {
     "name": "stdout",
     "output_type": "stream",
     "text": [
      "['<a class=\"conteudo-saiba-mais my-3\" href=\"https://brasilescola.uol.com.br/geografia/latitudes-longitudes.htm\">Leia mais</a>', '<a class=\"conteudo-saiba-mais my-3\" href=\"https://brasilescola.uol.com.br/geografia/letonia.htm\">Leia mais</a>', '<a class=\"conteudo-saiba-mais my-3\" href=\"https://brasilescola.uol.com.br/doencas/salmonelose.htm\">Leia mais</a>', '<a class=\"conteudo-saiba-mais my-3\" href=\"https://brasilescola.uol.com.br/brasil/pontos-extremos-do-brasil.htm\">Leia mais</a>', '<a class=\"conteudo-saiba-mais my-3\" href=\"https://brasilescola.uol.com.br/historiag/asiatico.htm\">Leia mais</a>', '<a class=\"conteudo-saiba-mais my-3\" href=\"https://brasilescola.uol.com.br/biologia/arterias.htm\">Leia mais</a>', '<a class=\"conteudo-saiba-mais my-3\" href=\"https://brasilescola.uol.com.br/datas-comemorativas/agosto.htm\">Leia mais</a>', '<a class=\"conteudo-saiba-mais my-3\" href=\"https://brasilescola.uol.com.br/historiag/hitler.htm\">Leia mais</a>', '<a class=\"conteudo-saiba-mais my-3\" href=\"https://brasilescola.uol.com.br/geografia/sudao.htm\">Leia mais</a>', '<a class=\"conteudo-saiba-mais my-3\" href=\"https://brasilescola.uol.com.br/matematica/calculando-area-um-triangulo.htm\">Leia mais</a>', '<a class=\"conteudo-saiba-mais my-3\" href=\"https://brasilescola.uol.com.br/guerras/guerra-troia.htm\">Leia mais</a>', '<a class=\"conteudo-saiba-mais my-3\" href=\"https://brasilescola.uol.com.br/literatura/prosa.htm\">Leia mais</a>', '<a class=\"conteudo-saiba-mais my-3\" href=\"https://vestibular.brasilescola.uol.com.br/enem/mec-publica-edital-do-prouni-2022-2-e-oficializa-novas-regras/353098.html\">Leia mais</a>', '<a class=\"conteudo-saiba-mais my-3\" href=\"https://vestibular.brasilescola.uol.com.br/enem/o-que-e-como-estudar-para-o-enem-2022.htm\">Leia mais</a>', '<a class=\"conteudo-saiba-mais my-3\" href=\"https://vestibular.brasilescola.uol.com.br/enem/lista-adesao-enem.htm\">Leia mais</a>', '<a class=\"conteudo-saiba-mais my-3\" href=\"https://vestibular.brasilescola.uol.com.br/enem/provas-gabaritos-enem.htm\">Leia mais</a>', '<a class=\"conteudo-saiba-mais my-3\" href=\"https://vestibular.brasilescola.uol.com.br/enem/como-calcular-media-enem.htm\">Leia mais</a>', '<a class=\"conteudo-saiba-mais my-3\" href=\"https://vestibular.brasilescola.uol.com.br/enem/mec-anuncia-como-sera-o-novo-enem/352313.html\">Leia mais</a>', '<a  class=\"page_speed_2019421912\" href=\"https://brasilescola.uol.com.br/tire-duvidas/historiag\">História Geral</a>', '<a  class=\"page_speed_2019421912\" href=\"https://brasilescola.uol.com.br/tire-duvidas/historiag\">História Geral</a>', '<a  class=\"page_speed_2019421912\" href=\"https://brasilescola.uol.com.br/tire-duvidas/fisica\">Física</a>', '<a class=\"conteudo-saiba-mais mb-3\" href=\"https://brasilescola.uol.com.br/geografia/catar.htm\">Leia mais</a>', '<a class=\"conteudo-saiba-mais mb-3\" href=\"https://brasilescola.uol.com.br/saude/leite.htm\">Leia mais</a>', '<a class=\"conteudo-saiba-mais mb-3\" href=\"https://brasilescola.uol.com.br/doencas/variola-dos-macacos.htm\">Leia mais</a>', '<a class=\"conteudo-saiba-mais mb-3\" href=\"https://brasilescola.uol.com.br/politica/urna-eletronica.htm\">Leia mais</a>', '<a class=\"conteudo-saiba-mais my-3\" href=\"https://www.youtube.com/watch?v=LwTXl5Hc6LQ\">Leia mais</a>', '<a class=\"conteudo-saiba-mais my-3\" href=\"https://brasilescola.uol.com.br/matematica/volume-do-cubo.htm\">Leia mais</a>', '<a class=\"conteudo-saiba-mais my-3\" href=\"https://escolakids.uol.com.br/portugues/a-fabula.htm\">Leia mais</a>', '<a class=\"conteudo-saiba-mais my-3\" href=\"https://exercicios.brasilescola.uol.com.br/exercicios-geografia/exercicios-sobre-movimento-de-rotacao.htm\">Leia mais</a>', '<a class=\"conteudo-saiba-mais my-3\" href=\"https://monografias.brasilescola.uol.com.br/saude/sindrome-metabolica-complicacoes-associadas-a-comorbidades.htm\">Leia mais</a>', '<a class=\"conteudo-saiba-mais my-3\" href=\"https://brasilescola.uol.com.br/podcasts/racismo-ambiental.htm\">Leia mais</a>', '<a href=\"https://www.redeomnia.com/quem-somos\" class=\"quem\" target=\"_blank\">Quem Somos</a>', '<a href=\"https://www.redeomnia.com/anuncie\" class=\"Anuncie\" target=\"_blank\">Anuncie</a>', '<a href=\"https://brasilescola.uol.com.br/politica-de-privacidade\" class=\"Privacidade\" target=\"_blank\">Política de Privacidade</a>', '<a href=\"https://brasilescola.uol.com.br/termos-de-uso\" class=\"Termos\" target=\"_blank\">Termos de Uso</a>', '<a href=\"https://brasilescola.uol.com.br/contato\" class=\"Contato\" target=\"_blank\">Fale Conosco</a>', '<a href=\"https://mundoeducacao.uol.com.br/\" target=\"_blank\">Mundo Educação</a>', '<a href=\"https://exercicios.mundoeducacao.uol.com.br/\" target=\"_blank\">Exercícios Mundo Educação</a>', '<a href=\"https://vestibular.mundoeducacao.uol.com.br/\" target=\"_blank\">Vestibular Mundo Educação</a>', '<a href=\"https://www.preparaenem.com/\" target=\"_blank\">Prepara Enem</a>', '<a href=\"https://escolakids.uol.com.br/\" target=\"_blank\">Escola Kids</a>', '<a href=\"https://www.historiadomundo.com.br/\" target=\"_blank\">História do Mundo</a>', '<a href=\"https://www.manualdaquimica.com/\" target=\"_blank\">Manual da Química</a>', '<a href=\"https://www.biologianet.com/\" target=\"_blank\">Biologia Net</a>', '<a href=\"https://www.portugues.com.br/\" target=\"_blank\">Português</a>', '<a href=\"http://www.redeomnia.com\" target=\"_blank\">Rede Omnia</a>']\n"
     ]
    }
   ],
   "source": [
    "print(alink)"
   ]
  },
  {
   "cell_type": "code",
   "execution_count": 88,
   "id": "27c544b0-79dc-4b06-a045-cf9e7b7ff834",
   "metadata": {
    "tags": []
   },
   "outputs": [],
   "source": [
    "def walk(link):\n",
    "    l = ''\n",
    "    pos = link.find('href')\n",
    "    start_aspa = 0\n",
    "    for i in link[pos:]:\n",
    "        if i == '\"':\n",
    "            start_aspa += 1\n",
    "            \n",
    "        if start_aspa==1 and i!= '\"':\n",
    "            l = l + i\n",
    "            \n",
    "    return l            "
   ]
  },
  {
   "cell_type": "code",
   "execution_count": 95,
   "id": "8bc0e153-edb0-4a1c-894d-ca3e2b5ef383",
   "metadata": {
    "tags": []
   },
   "outputs": [
    {
     "name": "stdout",
     "output_type": "stream",
     "text": [
      "['https://brasilescola.uol.com.br/geografia/latitudes-longitudes.htm', 'https://brasilescola.uol.com.br/geografia/letonia.htm', 'https://brasilescola.uol.com.br/doencas/salmonelose.htm', 'https://brasilescola.uol.com.br/brasil/pontos-extremos-do-brasil.htm', 'https://brasilescola.uol.com.br/historiag/asiatico.htm', 'https://brasilescola.uol.com.br/biologia/arterias.htm', 'https://brasilescola.uol.com.br/datas-comemorativas/agosto.htm', 'https://brasilescola.uol.com.br/historiag/hitler.htm', 'https://brasilescola.uol.com.br/geografia/sudao.htm', 'https://brasilescola.uol.com.br/matematica/calculando-area-um-triangulo.htm', 'https://brasilescola.uol.com.br/guerras/guerra-troia.htm', 'https://brasilescola.uol.com.br/literatura/prosa.htm', 'https://vestibular.brasilescola.uol.com.br/enem/mec-publica-edital-do-prouni-2022-2-e-oficializa-novas-regras/353098.html', 'https://vestibular.brasilescola.uol.com.br/enem/o-que-e-como-estudar-para-o-enem-2022.htm', 'https://vestibular.brasilescola.uol.com.br/enem/lista-adesao-enem.htm', 'https://vestibular.brasilescola.uol.com.br/enem/provas-gabaritos-enem.htm', 'https://vestibular.brasilescola.uol.com.br/enem/como-calcular-media-enem.htm', 'https://vestibular.brasilescola.uol.com.br/enem/mec-anuncia-como-sera-o-novo-enem/352313.html', 'https://brasilescola.uol.com.br/tire-duvidas/historiag', 'https://brasilescola.uol.com.br/tire-duvidas/historiag', 'https://brasilescola.uol.com.br/tire-duvidas/fisica', 'https://brasilescola.uol.com.br/geografia/catar.htm', 'https://brasilescola.uol.com.br/saude/leite.htm', 'https://brasilescola.uol.com.br/doencas/variola-dos-macacos.htm', 'https://brasilescola.uol.com.br/politica/urna-eletronica.htm', 'https://www.youtube.com/watch?v=LwTXl5Hc6LQ', 'https://brasilescola.uol.com.br/matematica/volume-do-cubo.htm', 'https://escolakids.uol.com.br/portugues/a-fabula.htm', 'https://exercicios.brasilescola.uol.com.br/exercicios-geografia/exercicios-sobre-movimento-de-rotacao.htm', 'https://monografias.brasilescola.uol.com.br/saude/sindrome-metabolica-complicacoes-associadas-a-comorbidades.htm', 'https://brasilescola.uol.com.br/podcasts/racismo-ambiental.htm', 'https://www.redeomnia.com/quem-somos', 'https://www.redeomnia.com/anuncie', 'https://brasilescola.uol.com.br/politica-de-privacidade', 'https://brasilescola.uol.com.br/termos-de-uso', 'https://brasilescola.uol.com.br/contato', 'https://mundoeducacao.uol.com.br/', 'https://exercicios.mundoeducacao.uol.com.br/', 'https://vestibular.mundoeducacao.uol.com.br/', 'https://www.preparaenem.com/', 'https://escolakids.uol.com.br/', 'https://www.historiadomundo.com.br/', 'https://www.manualdaquimica.com/', 'https://www.biologianet.com/', 'https://www.portugues.com.br/', 'http://www.redeomnia.com']\n"
     ]
    }
   ],
   "source": [
    "list_links = [] \n",
    "for i in alink: \n",
    "    list_links.append( walk(i) )\n",
    "\n",
    "print(list_links)"
   ]
  },
  {
   "cell_type": "code",
   "execution_count": null,
   "id": "265c7c39-3a22-41fa-8685-2e45c689f689",
   "metadata": {},
   "outputs": [],
   "source": []
  }
 ],
 "metadata": {
  "kernelspec": {
   "display_name": "Python 3 (ipykernel)",
   "language": "python",
   "name": "python3"
  },
  "language_info": {
   "codemirror_mode": {
    "name": "ipython",
    "version": 3
   },
   "file_extension": ".py",
   "mimetype": "text/x-python",
   "name": "python",
   "nbconvert_exporter": "python",
   "pygments_lexer": "ipython3",
   "version": "3.8.10"
  }
 },
 "nbformat": 4,
 "nbformat_minor": 5
}
